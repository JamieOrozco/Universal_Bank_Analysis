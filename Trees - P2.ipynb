{
 "cells": [
  {
   "cell_type": "markdown",
   "metadata": {},
   "source": [
    "## Import Required Packages"
   ]
  },
  {
   "cell_type": "code",
   "execution_count": 13,
   "metadata": {},
   "outputs": [],
   "source": [
    "# %reset\n",
    "\n",
    "%matplotlib inline\n",
    "import matplotlib.pylab as plt\n",
    "\n",
    "import numpy as np\n",
    "import pandas as pd"
   ]
  },
  {
   "cell_type": "markdown",
   "metadata": {},
   "source": [
    "## Bring in the Data"
   ]
  },
  {
   "cell_type": "code",
   "execution_count": 14,
   "metadata": {},
   "outputs": [
    {
     "data": {
      "text/html": [
       "<div>\n",
       "<style scoped>\n",
       "    .dataframe tbody tr th:only-of-type {\n",
       "        vertical-align: middle;\n",
       "    }\n",
       "\n",
       "    .dataframe tbody tr th {\n",
       "        vertical-align: top;\n",
       "    }\n",
       "\n",
       "    .dataframe thead th {\n",
       "        text-align: right;\n",
       "    }\n",
       "</style>\n",
       "<table border=\"1\" class=\"dataframe\">\n",
       "  <thead>\n",
       "    <tr style=\"text-align: right;\">\n",
       "      <th></th>\n",
       "      <th>ID</th>\n",
       "      <th>Age</th>\n",
       "      <th>Experience</th>\n",
       "      <th>Income</th>\n",
       "      <th>ZIP Code</th>\n",
       "      <th>Family</th>\n",
       "      <th>CCAvg</th>\n",
       "      <th>Education</th>\n",
       "      <th>Mortgage</th>\n",
       "      <th>Personal Loan</th>\n",
       "      <th>Securities Account</th>\n",
       "      <th>CD Account</th>\n",
       "      <th>Online</th>\n",
       "      <th>CreditCard</th>\n",
       "    </tr>\n",
       "  </thead>\n",
       "  <tbody>\n",
       "    <tr>\n",
       "      <th>0</th>\n",
       "      <td>1</td>\n",
       "      <td>25</td>\n",
       "      <td>1</td>\n",
       "      <td>49</td>\n",
       "      <td>91107</td>\n",
       "      <td>4</td>\n",
       "      <td>1.6</td>\n",
       "      <td>1</td>\n",
       "      <td>0</td>\n",
       "      <td>0</td>\n",
       "      <td>1</td>\n",
       "      <td>0</td>\n",
       "      <td>0</td>\n",
       "      <td>0</td>\n",
       "    </tr>\n",
       "    <tr>\n",
       "      <th>1</th>\n",
       "      <td>2</td>\n",
       "      <td>45</td>\n",
       "      <td>19</td>\n",
       "      <td>34</td>\n",
       "      <td>90089</td>\n",
       "      <td>3</td>\n",
       "      <td>1.5</td>\n",
       "      <td>1</td>\n",
       "      <td>0</td>\n",
       "      <td>0</td>\n",
       "      <td>1</td>\n",
       "      <td>0</td>\n",
       "      <td>0</td>\n",
       "      <td>0</td>\n",
       "    </tr>\n",
       "    <tr>\n",
       "      <th>2</th>\n",
       "      <td>3</td>\n",
       "      <td>39</td>\n",
       "      <td>15</td>\n",
       "      <td>11</td>\n",
       "      <td>94720</td>\n",
       "      <td>1</td>\n",
       "      <td>1.0</td>\n",
       "      <td>1</td>\n",
       "      <td>0</td>\n",
       "      <td>0</td>\n",
       "      <td>0</td>\n",
       "      <td>0</td>\n",
       "      <td>0</td>\n",
       "      <td>0</td>\n",
       "    </tr>\n",
       "    <tr>\n",
       "      <th>3</th>\n",
       "      <td>4</td>\n",
       "      <td>35</td>\n",
       "      <td>9</td>\n",
       "      <td>100</td>\n",
       "      <td>94112</td>\n",
       "      <td>1</td>\n",
       "      <td>2.7</td>\n",
       "      <td>2</td>\n",
       "      <td>0</td>\n",
       "      <td>0</td>\n",
       "      <td>0</td>\n",
       "      <td>0</td>\n",
       "      <td>0</td>\n",
       "      <td>0</td>\n",
       "    </tr>\n",
       "    <tr>\n",
       "      <th>4</th>\n",
       "      <td>5</td>\n",
       "      <td>35</td>\n",
       "      <td>8</td>\n",
       "      <td>45</td>\n",
       "      <td>91330</td>\n",
       "      <td>4</td>\n",
       "      <td>1.0</td>\n",
       "      <td>2</td>\n",
       "      <td>0</td>\n",
       "      <td>0</td>\n",
       "      <td>0</td>\n",
       "      <td>0</td>\n",
       "      <td>0</td>\n",
       "      <td>1</td>\n",
       "    </tr>\n",
       "  </tbody>\n",
       "</table>\n",
       "</div>"
      ],
      "text/plain": [
       "   ID  Age  Experience  Income  ZIP Code  Family  CCAvg  Education  Mortgage  \\\n",
       "0   1   25           1      49     91107       4    1.6          1         0   \n",
       "1   2   45          19      34     90089       3    1.5          1         0   \n",
       "2   3   39          15      11     94720       1    1.0          1         0   \n",
       "3   4   35           9     100     94112       1    2.7          2         0   \n",
       "4   5   35           8      45     91330       4    1.0          2         0   \n",
       "\n",
       "   Personal Loan  Securities Account  CD Account  Online  CreditCard  \n",
       "0              0                   1           0       0           0  \n",
       "1              0                   1           0       0           0  \n",
       "2              0                   0           0       0           0  \n",
       "3              0                   0           0       0           0  \n",
       "4              0                   0           0       0           1  "
      ]
     },
     "execution_count": 14,
     "metadata": {},
     "output_type": "execute_result"
    }
   ],
   "source": [
    "bank_df = pd.read_csv('UniversalBank.csv')\n",
    "bank_df.head()"
   ]
  },
  {
   "cell_type": "markdown",
   "metadata": {},
   "source": [
    "## Data Preprocessing\n",
    "1. The \"ID\" and \"ZIP Code\" columns are not relevant for model building and therefore should be removed.\n",
    "2. If a column name has a space, replace the space with an underscore (_)\n",
    "3. Change the \"Education\" variable to be type \"category\". Rename the values (1,2,3) of Education variable to the following:\n",
    "    1. 1 = \"Undergrad\"\n",
    "    2. 2 = \"Graduate\"\n",
    "    3. 3 = \"Advanced/Professional\"\n",
    "4. Turn the renamed variable to be a dummy variable"
   ]
  },
  {
   "cell_type": "code",
   "execution_count": 15,
   "metadata": {},
   "outputs": [],
   "source": [
    "# Delete the ID and ZIP code columns\n",
    "bank_dfv2 = bank_df.drop(columns=['ID', 'ZIP Code'])\n",
    "\n",
    "# Replace space with underscore in column names\n",
    "bank_dfv2.columns = bank_dfv2.columns.str.replace(' ', '_')\n",
    "\n",
    "# Change \"Education\" column as categorical\n",
    "bank_dfv2['Education'] = bank_dfv2['Education'].astype('category')\n",
    "\n",
    "# Rename \"Education\" values of 1, 2 and 3 to \"Undergrad\", \"Graduate\" and \"Advanced/ Professional\"\n",
    "new_categories = {1:'Undergrad', 2:'Graduate', 3:'Advanced/Professional'}\n",
    "bank_dfv2.Education.cat.rename_categories(new_categories, inplace=True)\n",
    "\n",
    "# Create dummy variables for the categorical data\n",
    "bank_dfv3 = pd.get_dummies(bank_dfv2, prefix_sep='_', drop_first=True)"
   ]
  },
  {
   "cell_type": "markdown",
   "metadata": {},
   "source": [
    "## Data Preprocessing\n",
    "1. Identify dependent and independent variables\n",
    "2. Standardize the data to negate effect of variable scale (income vs height)\n",
    "4. Split data into training and testing data\n",
    "    1. 60% training and 40% testing"
   ]
  },
  {
   "cell_type": "code",
   "execution_count": 16,
   "metadata": {},
   "outputs": [],
   "source": [
    "from sklearn.model_selection import train_test_split\n",
    "from sklearn.preprocessing import StandardScaler\n",
    "\n",
    "# Identify dependent and independent variables\n",
    "y = bank_dfv3['Personal_Loan']\n",
    "X = bank_dfv3.drop(columns=['Personal_Loan'])\n",
    "\n",
    "#Standardize independent variables in ALL data (zero mean and unit variance)\n",
    "std_X = StandardScaler().fit_transform(X)\n",
    "std_X_df = pd.DataFrame(std_X, columns=X.columns)\n",
    "\n",
    "# Partition data into training (60%) and testing (40%)\n",
    "train_X, test_X, train_y, test_y = train_test_split(std_X_df, y, test_size=0.4, random_state=1)"
   ]
  },
  {
   "cell_type": "markdown",
   "metadata": {},
   "source": [
    "## Modeling \"Personal Loans\"\n",
    "1. Fit a decision tree model to the training data\n",
    "2. Explain the decision tree model with maximum depth of 2\n",
    "2. Plot The Decision Tree Model"
   ]
  },
  {
   "cell_type": "markdown",
   "metadata": {},
   "source": [
    "## Explain Decision Tree Model with Max depth of 2\n",
    "1. DTs have two types of nodes/ variables represented as rectangles: decision nodes and terminal (or leaf) nodes\n",
    "    1. Decision nodes have successors, but terminal nodes do not\n",
    "    2. How to decide which variables to split on? \n",
    "2. Each node contains the following information:\n",
    "    1. The name of the variable chosen for splitting and its value (appear at the top)\n",
    "    2. The number of records (samples) in that node\n",
    "    3. The distribution of the classes\n",
    "    4. The majority class of that node\n",
    "3. The color of the node shows how \"pure\" the samples are for classification\n",
    "4. The left leaf node represent records that meet the splitting condition (“True”)\n",
    "5. The right leaf node represent records that does not meet the splitting condition (“False”)"
   ]
  },
  {
   "cell_type": "code",
   "execution_count": 23,
   "metadata": {},
   "outputs": [
    {
     "data": {
      "image/png": "[encoded data removed]",
      "text/plain": [
       "<IPython.core.display.Image object>"
      ]
     },
     "execution_count": 23,
     "metadata": {},
     "output_type": "execute_result"
    }
   ],
   "source": [
    "from sklearn.tree import DecisionTreeClassifier\n",
    "from dmba import plotDecisionTree\n",
    "\n",
    "# fit decision tree model\n",
    "dt = DecisionTreeClassifier(random_state=0, max_depth=2)\n",
    "dt.fit(train_X, train_y)\n",
    "\n",
    "# Plotting the decision tree model\n",
    "column_names = train_X.columns\n",
    "plotDecisionTree(dt, feature_names=column_names, class_names=dt.classes_)"
   ]
  },
  {
   "cell_type": "markdown",
   "metadata": {},
   "source": [
    "## Interpreting decision trees\n",
    "1. IF(Income $\\leq$ 0.798) AND (CCAvg $\\leq$ 0.579) THEN Class = 0\n",
    "2. IF(Income $\\geq$ 0.798) AND (Family $geq$ 0.09) THEN Class = 1\n",
    "\n",
    "## Deciding which variables to split on\n",
    "1. Split on a variable that produces \"purer\" samples\n",
    "2. Two popular measures of purity/ impurity\n",
    "    1. Gini index\n",
    "    2. Enthropy measure"
   ]
  },
  {
   "cell_type": "markdown",
   "metadata": {},
   "source": [
    "## Modeling \"Personal Loans\"\n",
    "1. Fit the kNN model on the training data\n",
    "    1. The choice of \"k\" is crucial\n",
    "    2. KNN is a non-parametric model\n",
    "2. Fit the discriminant analysis model on the training data\n",
    "3. Fit the logistic regression model on the training data"
   ]
  },
  {
   "cell_type": "code",
   "execution_count": 24,
   "metadata": {},
   "outputs": [
    {
     "data": {
      "text/plain": [
       "LogisticRegression(C=1e+42, solver='liblinear')"
      ]
     },
     "execution_count": 24,
     "metadata": {},
     "output_type": "execute_result"
    }
   ],
   "source": [
    "from sklearn.discriminant_analysis import LinearDiscriminantAnalysis\n",
    "from sklearn.neighbors import KNeighborsClassifier\n",
    "from sklearn.linear_model import LogisticRegression\n",
    "\n",
    "# fit kNN model\n",
    "knn = KNeighborsClassifier(n_neighbors=3)\n",
    "knn.fit(train_X, train_y)\n",
    "\n",
    "# fit discriminant analysis model\n",
    "da = LinearDiscriminantAnalysis()\n",
    "da.fit(train_X, train_y)\n",
    "\n",
    "# fit a logistic regression\n",
    "log = LogisticRegression(fit_intercept=True, C=1e42, solver='liblinear')\n",
    "log.fit(train_X, train_y)"
   ]
  },
  {
   "cell_type": "markdown",
   "metadata": {},
   "source": [
    "## Modeling \"Personal Loans\"\n",
    "1. For each model get\n",
    "    1. Class prediction label of the training\n",
    "    2. Probabilities of belonging to the class of the training and testing data"
   ]
  },
  {
   "cell_type": "code",
   "execution_count": 26,
   "metadata": {},
   "outputs": [
    {
     "name": "stdout",
     "output_type": "stream",
     "text": [
      "Class predictions for training data\n"
     ]
    },
    {
     "data": {
      "text/html": [
       "<div>\n",
       "<style scoped>\n",
       "    .dataframe tbody tr th:only-of-type {\n",
       "        vertical-align: middle;\n",
       "    }\n",
       "\n",
       "    .dataframe tbody tr th {\n",
       "        vertical-align: top;\n",
       "    }\n",
       "\n",
       "    .dataframe thead th {\n",
       "        text-align: right;\n",
       "    }\n",
       "</style>\n",
       "<table border=\"1\" class=\"dataframe\">\n",
       "  <thead>\n",
       "    <tr style=\"text-align: right;\">\n",
       "      <th></th>\n",
       "      <th>Actual_Class</th>\n",
       "      <th>DT_Prediction</th>\n",
       "      <th>kNN_Prediction</th>\n",
       "      <th>DA_Prediction</th>\n",
       "      <th>Logistic_Prediction</th>\n",
       "    </tr>\n",
       "  </thead>\n",
       "  <tbody>\n",
       "    <tr>\n",
       "      <th>4522</th>\n",
       "      <td>0</td>\n",
       "      <td>0</td>\n",
       "      <td>0</td>\n",
       "      <td>0</td>\n",
       "      <td>0</td>\n",
       "    </tr>\n",
       "    <tr>\n",
       "      <th>2851</th>\n",
       "      <td>0</td>\n",
       "      <td>0</td>\n",
       "      <td>0</td>\n",
       "      <td>0</td>\n",
       "      <td>0</td>\n",
       "    </tr>\n",
       "    <tr>\n",
       "      <th>2313</th>\n",
       "      <td>0</td>\n",
       "      <td>0</td>\n",
       "      <td>0</td>\n",
       "      <td>0</td>\n",
       "      <td>0</td>\n",
       "    </tr>\n",
       "    <tr>\n",
       "      <th>982</th>\n",
       "      <td>0</td>\n",
       "      <td>0</td>\n",
       "      <td>0</td>\n",
       "      <td>0</td>\n",
       "      <td>0</td>\n",
       "    </tr>\n",
       "    <tr>\n",
       "      <th>1164</th>\n",
       "      <td>1</td>\n",
       "      <td>0</td>\n",
       "      <td>1</td>\n",
       "      <td>1</td>\n",
       "      <td>1</td>\n",
       "    </tr>\n",
       "    <tr>\n",
       "      <th>1779</th>\n",
       "      <td>0</td>\n",
       "      <td>0</td>\n",
       "      <td>0</td>\n",
       "      <td>0</td>\n",
       "      <td>0</td>\n",
       "    </tr>\n",
       "    <tr>\n",
       "      <th>2146</th>\n",
       "      <td>0</td>\n",
       "      <td>0</td>\n",
       "      <td>0</td>\n",
       "      <td>0</td>\n",
       "      <td>0</td>\n",
       "    </tr>\n",
       "    <tr>\n",
       "      <th>4544</th>\n",
       "      <td>0</td>\n",
       "      <td>0</td>\n",
       "      <td>0</td>\n",
       "      <td>0</td>\n",
       "      <td>0</td>\n",
       "    </tr>\n",
       "    <tr>\n",
       "      <th>2363</th>\n",
       "      <td>0</td>\n",
       "      <td>0</td>\n",
       "      <td>0</td>\n",
       "      <td>0</td>\n",
       "      <td>0</td>\n",
       "    </tr>\n",
       "    <tr>\n",
       "      <th>1918</th>\n",
       "      <td>1</td>\n",
       "      <td>0</td>\n",
       "      <td>1</td>\n",
       "      <td>1</td>\n",
       "      <td>1</td>\n",
       "    </tr>\n",
       "  </tbody>\n",
       "</table>\n",
       "</div>"
      ],
      "text/plain": [
       "      Actual_Class  DT_Prediction  kNN_Prediction  DA_Prediction  \\\n",
       "4522             0              0               0              0   \n",
       "2851             0              0               0              0   \n",
       "2313             0              0               0              0   \n",
       "982              0              0               0              0   \n",
       "1164             1              0               1              1   \n",
       "1779             0              0               0              0   \n",
       "2146             0              0               0              0   \n",
       "4544             0              0               0              0   \n",
       "2363             0              0               0              0   \n",
       "1918             1              0               1              1   \n",
       "\n",
       "      Logistic_Prediction  \n",
       "4522                    0  \n",
       "2851                    0  \n",
       "2313                    0  \n",
       "982                     0  \n",
       "1164                    1  \n",
       "1779                    0  \n",
       "2146                    0  \n",
       "4544                    0  \n",
       "2363                    0  \n",
       "1918                    1  "
      ]
     },
     "execution_count": 26,
     "metadata": {},
     "output_type": "execute_result"
    }
   ],
   "source": [
    "# Decision Tree class label for training and testing data\n",
    "dt_pred_train = dt.predict(train_X)\n",
    "dt_pred_test = dt.predict(test_X)\n",
    "\n",
    "# kNN class label for training and testing data\n",
    "knn_pred_train = knn.predict(train_X)\n",
    "knn_pred_test = knn.predict(test_X)\n",
    "\n",
    "# discriminant analysis class label for training and testing data\n",
    "da_pred_train = da.predict(train_X)\n",
    "da_pred_test = da.predict(test_X)\n",
    "\n",
    "# Logistic regression class label for training and testing data\n",
    "log_pred_train = log.predict(train_X)\n",
    "log_pred_test = log.predict(test_X)\n",
    "\n",
    "# Summary of training data predictions\n",
    "pred_summary = pd.DataFrame({\"Actual_Class\": train_y, \"DT_Prediction\":dt_pred_train,\\\n",
    "                             \"kNN_Prediction\":knn_pred_train,\\\n",
    "                             \"DA_Prediction\":da_pred_train,\\\n",
    "                             \"Logistic_Prediction\":log_pred_train})\n",
    "\n",
    "print(\"Class predictions for training data\")\n",
    "pred_summary.head(10)"
   ]
  },
  {
   "cell_type": "markdown",
   "metadata": {},
   "source": [
    "## Modeling \"Personal Loans\"\n",
    "1. For each model get\n",
    "    1. Probabilities of belonging to the class of the training"
   ]
  },
  {
   "cell_type": "code",
   "execution_count": 27,
   "metadata": {},
   "outputs": [
    {
     "name": "stdout",
     "output_type": "stream",
     "text": [
      "Class predictions for training data\n"
     ]
    },
    {
     "data": {
      "text/html": [
       "<div>\n",
       "<style scoped>\n",
       "    .dataframe tbody tr th:only-of-type {\n",
       "        vertical-align: middle;\n",
       "    }\n",
       "\n",
       "    .dataframe tbody tr th {\n",
       "        vertical-align: top;\n",
       "    }\n",
       "\n",
       "    .dataframe thead th {\n",
       "        text-align: right;\n",
       "    }\n",
       "</style>\n",
       "<table border=\"1\" class=\"dataframe\">\n",
       "  <thead>\n",
       "    <tr style=\"text-align: right;\">\n",
       "      <th></th>\n",
       "      <th>DT_Probability_P(Y=0)</th>\n",
       "      <th>kNN_Probability_P(Y=0)</th>\n",
       "      <th>DA_Probability_P(Y=0)</th>\n",
       "      <th>Logistic_Probability_P(Y=0)</th>\n",
       "    </tr>\n",
       "  </thead>\n",
       "  <tbody>\n",
       "    <tr>\n",
       "      <th>0</th>\n",
       "      <td>0.999093</td>\n",
       "      <td>1.0</td>\n",
       "      <td>0.999982</td>\n",
       "      <td>0.999985</td>\n",
       "    </tr>\n",
       "    <tr>\n",
       "      <th>1</th>\n",
       "      <td>0.999093</td>\n",
       "      <td>1.0</td>\n",
       "      <td>0.979038</td>\n",
       "      <td>0.943801</td>\n",
       "    </tr>\n",
       "    <tr>\n",
       "      <th>2</th>\n",
       "      <td>0.999093</td>\n",
       "      <td>1.0</td>\n",
       "      <td>0.998897</td>\n",
       "      <td>0.996905</td>\n",
       "    </tr>\n",
       "    <tr>\n",
       "      <th>3</th>\n",
       "      <td>0.999093</td>\n",
       "      <td>1.0</td>\n",
       "      <td>0.997964</td>\n",
       "      <td>0.994108</td>\n",
       "    </tr>\n",
       "    <tr>\n",
       "      <th>4</th>\n",
       "      <td>0.779874</td>\n",
       "      <td>0.0</td>\n",
       "      <td>0.037132</td>\n",
       "      <td>0.198476</td>\n",
       "    </tr>\n",
       "  </tbody>\n",
       "</table>\n",
       "</div>"
      ],
      "text/plain": [
       "   DT_Probability_P(Y=0)  kNN_Probability_P(Y=0)  DA_Probability_P(Y=0)  \\\n",
       "0               0.999093                     1.0               0.999982   \n",
       "1               0.999093                     1.0               0.979038   \n",
       "2               0.999093                     1.0               0.998897   \n",
       "3               0.999093                     1.0               0.997964   \n",
       "4               0.779874                     0.0               0.037132   \n",
       "\n",
       "   Logistic_Probability_P(Y=0)  \n",
       "0                     0.999985  \n",
       "1                     0.943801  \n",
       "2                     0.996905  \n",
       "3                     0.994108  \n",
       "4                     0.198476  "
      ]
     },
     "execution_count": 27,
     "metadata": {},
     "output_type": "execute_result"
    }
   ],
   "source": [
    "# Decision Tree class label for training and testing data\n",
    "dt_prob_train = dt.predict_proba(train_X)\n",
    "dt_prob_test = dt.predict_proba(test_X)\n",
    "\n",
    "# kNN class label for training and testing data\n",
    "knn_prob_train = knn.predict_proba(train_X)\n",
    "knn_prob_test = knn.predict_proba(test_X)\n",
    "\n",
    "# discriminant analysis class label for training and testing data\n",
    "da_prob_train = da.predict_proba(train_X)\n",
    "da_prob_test = da.predict_proba(test_X)\n",
    "\n",
    "# discriminant analysis class label for training and testing data\n",
    "log_prob_train = log.predict_proba(train_X)\n",
    "log_prob_test = log.predict_proba(test_X)\n",
    "\n",
    "# Summary of training data predictions\n",
    "pred_summary = pd.DataFrame({\"DT_Probability_P(Y=0)\": dt_prob_train[:,0],\\\n",
    "                             \"kNN_Probability_P(Y=0)\": knn_prob_train[:,0],\\\n",
    "                             \"DA_Probability_P(Y=0)\":da_prob_train[:,0],\\\n",
    "                             \"Logistic_Probability_P(Y=0)\":log_prob_train[:,0]})\n",
    "\n",
    "print(\"Class predictions for training data\")\n",
    "pred_summary.head()"
   ]
  },
  {
   "cell_type": "markdown",
   "metadata": {},
   "source": [
    "## Model Evaluation\n",
    "1. Provide the model's accuracy rate and comment on it\n",
    "2. Provide the model's misclassification rate and comment on it"
   ]
  },
  {
   "cell_type": "code",
   "execution_count": 30,
   "metadata": {},
   "outputs": [
    {
     "name": "stdout",
     "output_type": "stream",
     "text": [
      "Accuracy rate for decision tree: 0.9445\n",
      "Accuracy rate for knn: 0.952\n",
      "Accuracy rate for linear discriminant analysis: 0.944\n",
      "Accuracy rate for logistic regression: 0.96\n",
      "\n",
      "Misclassification rate for decision tree: 0.0555\n",
      "Misclassification rate for kNN: 0.048\n",
      "Misclassification rate for linear discriminant analysis: 0.056\n",
      "Misclassification rate for logistic regression: 0.04\n"
     ]
    }
   ],
   "source": [
    "from sklearn.metrics import accuracy_score\n",
    "\n",
    "# Accuracy rate for knn, LDA and logistic\n",
    "dt_test_accuracy = accuracy_score(test_y, dt_pred_test)\n",
    "knn_test_accuracy = accuracy_score(test_y, knn_pred_test)\n",
    "da_test_accuracy = accuracy_score(test_y, da_pred_test)\n",
    "log_test_accuracy = accuracy_score(test_y, log_pred_test)\n",
    "\n",
    "# Get misclassification rate\n",
    "dt_test_misclass = round(1 - dt_test_accuracy, 4)\n",
    "knn_test_misclass = round(1 - knn_test_accuracy, 4)\n",
    "da_test_misclass = round(1 - da_test_accuracy, 4)\n",
    "log_test_misclass = round(1 - log_test_accuracy, 4)\n",
    "\n",
    "print(\"Accuracy rate for decision tree:\", dt_test_accuracy)\n",
    "print(\"Accuracy rate for knn:\", knn_test_accuracy)\n",
    "print(\"Accuracy rate for linear discriminant analysis:\", da_test_accuracy)\n",
    "print(\"Accuracy rate for logistic regression:\", log_test_accuracy)\n",
    "\n",
    "print(\"\\nMisclassification rate for decision tree:\", dt_test_misclass)\n",
    "print(\"Misclassification rate for kNN:\", knn_test_misclass)\n",
    "print(\"Misclassification rate for linear discriminant analysis:\", da_test_misclass)\n",
    "print(\"Misclassification rate for logistic regression:\", log_test_misclass)"
   ]
  },
  {
   "cell_type": "markdown",
   "metadata": {},
   "source": [
    "## Model Evaluation\n",
    "1. Provide the ROC curve and comment on it"
   ]
  },
  {
   "cell_type": "code",
   "execution_count": 31,
   "metadata": {},
   "outputs": [
    {
     "data": {
      "image/png": "[encoded data removed]",
      "text/plain": [
       "<Figure size 432x288 with 1 Axes>"
      ]
     },
     "metadata": {
      "needs_background": "light"
     },
     "output_type": "display_data"
    }
   ],
   "source": [
    "from sklearn.metrics import roc_curve\n",
    "from sklearn.metrics import roc_auc_score\n",
    "\n",
    "# Calculate AUC for test data\n",
    "dt_auc_test = roc_auc_score(test_y, dt_pred_test)\n",
    "knn_auc_test = roc_auc_score(test_y, knn_pred_test)\n",
    "da_auc_test = roc_auc_score(test_y, da_pred_test)\n",
    "log_auc_test = roc_auc_score(test_y, log_pred_test)\n",
    "\n",
    "# calculate fpr and tpr for logistic regression and linear discriminant analysis\n",
    "dt_fpr_test, dt_tpr_test, _ = roc_curve(test_y, dt_pred_test)\n",
    "knn_fpr_test, knn_tpr_test, _ = roc_curve(test_y, knn_pred_test)\n",
    "da_fpr_test, da_tpr_test, _ = roc_curve(test_y, da_pred_test)\n",
    "log_fpr_test, log_tpr_test, _ = roc_curve(test_y, log_pred_test)\n",
    "\n",
    "# Plotting\n",
    "plt.plot(dt_fpr_test, dt_tpr_test, linestyle='--', label=\"{}{:.3f}\".format(\"DT AUC=\", dt_auc_test))\n",
    "plt.plot(knn_fpr_test, knn_tpr_test, linestyle='--', label=\"{}{:.3f}\".format(\"kNN AUC=\", knn_auc_test))\n",
    "plt.plot(da_fpr_test, da_tpr_test, linestyle='--', label=\"{}{:.3f}\".format(\"LDA AUC=\", da_auc_test))\n",
    "plt.plot(log_fpr_test, log_tpr_test, linestyle='--', label=\"{}{:.3f}\".format(\"Log. Reg AUC=\", log_auc_test))\n",
    "plt.plot([0, 1], [0, 1], linestyle='solid', c='k')\n",
    "\n",
    "plt.title(\"DT vs. LDA vs. Logistic Regression vs KNN\")\n",
    "plt.xlabel(\"False Positive Rate\")\n",
    "plt.ylabel(\"True Positive Rate\")\n",
    "plt.legend(loc='lower right')\n",
    "plt.show()"
   ]
  },
  {
   "cell_type": "code",
   "execution_count": null,
   "metadata": {},
   "outputs": [],
   "source": []
  }
 ],
 "metadata": {
  "kernelspec": {
   "display_name": "Python 3",
   "language": "python",
   "name": "python3"
  },
  "language_info": {
   "codemirror_mode": {
    "name": "ipython",
    "version": 3
   },
   "file_extension": ".py",
   "mimetype": "text/x-python",
   "name": "python",
   "nbconvert_exporter": "python",
   "pygments_lexer": "ipython3",
   "version": "3.8.3"
  }
 },
 "nbformat": 4,
 "nbformat_minor": 4
}
