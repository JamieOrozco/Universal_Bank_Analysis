{
 "cells": [
  {
   "cell_type": "markdown",
   "metadata": {},
   "source": [
    "# Classification Techniques\n",
    "## Logistic Regression\n",
    "1. Logistic regression is used in situations where the dependent variable is categorical\n",
    "    1. If the dependent variable has two categories, then it is called a binary logistic regression\n",
    "    2. If the dependent variable has more than two categories, then it's called a multi-class logistic regression\n",
    "2. The goal is to classify new records into one of the categories of the dependent variable\n",
    "3. Logistic regression also gives the probability of belonging into one of the categories"
   ]
  },
  {
   "cell_type": "markdown",
   "metadata": {},
   "source": [
    "## Applications of Logistic Regression\n",
    "1. Classify customers as returning or non-returning (classification)\n",
    "2. Finding factors that differentiate between returning or non-returning customers (profiling)"
   ]
  },
  {
   "cell_type": "markdown",
   "metadata": {},
   "source": [
    "## Steps in Binary Logistic Regression\n",
    "Assume there are two classes: buy/ don't buy, 0/1. Then the first step is:\n",
    "1. Compute the probability, $p$, of belonging to each class\n",
    "2. Using a threshold value, determine which class each observation falls in\n",
    "    1. If the probability is above the threshold, that observation may be classified as \"buy\", \"1\"\n",
    "    2. If the probability is below the threshold, that observation may be classified as \"don't buy\", \"0\""
   ]
  },
  {
   "cell_type": "markdown",
   "metadata": {},
   "source": [
    "## The Logistic Regression model\n",
    "1. The logistic equation: $p=\\frac{1}{1 + e^{-(\\beta_0 + \\beta_1x_1 + ... + \\beta_kx_k)}}$\n",
    "    1. This is called the logit function\n",
    "2. Logistic regression seeks to find the parameters $\\beta_0, \\beta_1, ..., \\beta_k$"
   ]
  },
  {
   "cell_type": "markdown",
   "metadata": {},
   "source": [
    "## Import Required Packages"
   ]
  },
  {
   "cell_type": "code",
   "execution_count": 27,
   "metadata": {},
   "outputs": [],
   "source": [
    "import numpy as np\n",
    "import pandas as pd\n",
    "\n",
    "from sklearn.linear_model import LogisticRegression \n",
    "from sklearn.model_selection import train_test_split\n",
    "import statsmodels.api as sm"
   ]
  },
  {
   "cell_type": "markdown",
   "metadata": {},
   "source": [
    "## Bring in Data"
   ]
  },
  {
   "cell_type": "code",
   "execution_count": 2,
   "metadata": {},
   "outputs": [
    {
     "data": {
      "text/html": [
       "<div>\n",
       "<style scoped>\n",
       "    .dataframe tbody tr th:only-of-type {\n",
       "        vertical-align: middle;\n",
       "    }\n",
       "\n",
       "    .dataframe tbody tr th {\n",
       "        vertical-align: top;\n",
       "    }\n",
       "\n",
       "    .dataframe thead th {\n",
       "        text-align: right;\n",
       "    }\n",
       "</style>\n",
       "<table border=\"1\" class=\"dataframe\">\n",
       "  <thead>\n",
       "    <tr style=\"text-align: right;\">\n",
       "      <th></th>\n",
       "      <th>ID</th>\n",
       "      <th>Age</th>\n",
       "      <th>Experience</th>\n",
       "      <th>Income</th>\n",
       "      <th>ZIP Code</th>\n",
       "      <th>Family</th>\n",
       "      <th>CCAvg</th>\n",
       "      <th>Education</th>\n",
       "      <th>Mortgage</th>\n",
       "      <th>Personal Loan</th>\n",
       "      <th>Securities Account</th>\n",
       "      <th>CD Account</th>\n",
       "      <th>Online</th>\n",
       "      <th>CreditCard</th>\n",
       "    </tr>\n",
       "  </thead>\n",
       "  <tbody>\n",
       "    <tr>\n",
       "      <th>0</th>\n",
       "      <td>1</td>\n",
       "      <td>25</td>\n",
       "      <td>1</td>\n",
       "      <td>49</td>\n",
       "      <td>91107</td>\n",
       "      <td>4</td>\n",
       "      <td>1.6</td>\n",
       "      <td>1</td>\n",
       "      <td>0</td>\n",
       "      <td>0</td>\n",
       "      <td>1</td>\n",
       "      <td>0</td>\n",
       "      <td>0</td>\n",
       "      <td>0</td>\n",
       "    </tr>\n",
       "    <tr>\n",
       "      <th>1</th>\n",
       "      <td>2</td>\n",
       "      <td>45</td>\n",
       "      <td>19</td>\n",
       "      <td>34</td>\n",
       "      <td>90089</td>\n",
       "      <td>3</td>\n",
       "      <td>1.5</td>\n",
       "      <td>1</td>\n",
       "      <td>0</td>\n",
       "      <td>0</td>\n",
       "      <td>1</td>\n",
       "      <td>0</td>\n",
       "      <td>0</td>\n",
       "      <td>0</td>\n",
       "    </tr>\n",
       "    <tr>\n",
       "      <th>2</th>\n",
       "      <td>3</td>\n",
       "      <td>39</td>\n",
       "      <td>15</td>\n",
       "      <td>11</td>\n",
       "      <td>94720</td>\n",
       "      <td>1</td>\n",
       "      <td>1.0</td>\n",
       "      <td>1</td>\n",
       "      <td>0</td>\n",
       "      <td>0</td>\n",
       "      <td>0</td>\n",
       "      <td>0</td>\n",
       "      <td>0</td>\n",
       "      <td>0</td>\n",
       "    </tr>\n",
       "    <tr>\n",
       "      <th>3</th>\n",
       "      <td>4</td>\n",
       "      <td>35</td>\n",
       "      <td>9</td>\n",
       "      <td>100</td>\n",
       "      <td>94112</td>\n",
       "      <td>1</td>\n",
       "      <td>2.7</td>\n",
       "      <td>2</td>\n",
       "      <td>0</td>\n",
       "      <td>0</td>\n",
       "      <td>0</td>\n",
       "      <td>0</td>\n",
       "      <td>0</td>\n",
       "      <td>0</td>\n",
       "    </tr>\n",
       "    <tr>\n",
       "      <th>4</th>\n",
       "      <td>5</td>\n",
       "      <td>35</td>\n",
       "      <td>8</td>\n",
       "      <td>45</td>\n",
       "      <td>91330</td>\n",
       "      <td>4</td>\n",
       "      <td>1.0</td>\n",
       "      <td>2</td>\n",
       "      <td>0</td>\n",
       "      <td>0</td>\n",
       "      <td>0</td>\n",
       "      <td>0</td>\n",
       "      <td>0</td>\n",
       "      <td>1</td>\n",
       "    </tr>\n",
       "  </tbody>\n",
       "</table>\n",
       "</div>"
      ],
      "text/plain": [
       "   ID  Age  Experience  Income  ZIP Code  Family  CCAvg  Education  Mortgage  \\\n",
       "0   1   25           1      49     91107       4    1.6          1         0   \n",
       "1   2   45          19      34     90089       3    1.5          1         0   \n",
       "2   3   39          15      11     94720       1    1.0          1         0   \n",
       "3   4   35           9     100     94112       1    2.7          2         0   \n",
       "4   5   35           8      45     91330       4    1.0          2         0   \n",
       "\n",
       "   Personal Loan  Securities Account  CD Account  Online  CreditCard  \n",
       "0              0                   1           0       0           0  \n",
       "1              0                   1           0       0           0  \n",
       "2              0                   0           0       0           0  \n",
       "3              0                   0           0       0           0  \n",
       "4              0                   0           0       0           1  "
      ]
     },
     "execution_count": 2,
     "metadata": {},
     "output_type": "execute_result"
    }
   ],
   "source": [
    "bank_df = pd.read_csv('UniversalBank.csv')\n",
    "bank_df.head()"
   ]
  },
  {
   "cell_type": "markdown",
   "metadata": {},
   "source": [
    "## Data Preprocessing\n",
    "1. The \"ID\" and \"ZIP Code\" columns are not relevant for model building and therefore should be removed.\n",
    "2. If a column name has a space, replace the space with an underscore (_)\n",
    "3. Change the \"Education\" variable to be type \"category\". Rename the values (1,2,3) of Education variable to the following:\n",
    "    1. 1 = \"Undergrad\"\n",
    "    2. 2 = \"Graduate\"\n",
    "    3. 3 = \"Advanced/Professional\"\n",
    "4. Turn the renamed variable to be a dummy variable"
   ]
  },
  {
   "cell_type": "code",
   "execution_count": 3,
   "metadata": {},
   "outputs": [],
   "source": [
    "# Delete the ID and ZIP code columns\n",
    "bank_dfv2 = bank_df.drop(columns=['ID', 'ZIP Code'])\n",
    "\n",
    "# Replace space with underscore in column names\n",
    "bank_dfv2.columns = bank_dfv2.columns.str.replace(' ', '_')\n",
    "\n",
    "# Change \"Education\" column as categorical\n",
    "bank_dfv2['Education'] = bank_dfv2['Education'].astype('category')\n",
    "\n",
    "# Rename \"Education\" values of 1, 2 and 3 to \"Undergrad\", \"Graduate\" and \"Advanced/ Professional\"\n",
    "new_categories = {1:'Undergrad', 2:'Graduate', 3:'Advanced/Professional'}\n",
    "bank_dfv2.Education.cat.rename_categories(new_categories, inplace=True)\n",
    "\n",
    "# Create dummy variables for the categorical data\n",
    "bank_dfv3 = pd.get_dummies(bank_dfv2, prefix_sep='_', drop_first=True)"
   ]
  },
  {
   "cell_type": "markdown",
   "metadata": {},
   "source": [
    "## Data Preprocessing\n",
    "1. Identify dependent and independent variables\n",
    "2. Split data into training and testing data\n",
    "    1. 60% training and 40% testing"
   ]
  },
  {
   "cell_type": "code",
   "execution_count": 4,
   "metadata": {},
   "outputs": [],
   "source": [
    "# Identify dependent and independent variables\n",
    "y = bank_dfv3['Personal_Loan']\n",
    "X = bank_dfv3.drop(columns=['Personal_Loan'])\n",
    "\n",
    "# Partition data into training (60%) and testing (40%)\n",
    "train_X, test_X, train_y, test_y = train_test_split(X, y, test_size=0.4, random_state=1)"
   ]
  },
  {
   "cell_type": "markdown",
   "metadata": {},
   "source": [
    "## Use logistic regression to model \"Personal_Loan\"\n",
    "1. Fit the logistic regression on the training data\n",
    "2. Print the intercept and model coefficients\n",
    "3. Get the class predictions and probabilities of the training data"
   ]
  },
  {
   "cell_type": "code",
   "execution_count": 5,
   "metadata": {},
   "outputs": [],
   "source": [
    "# fit a logistic regression\n",
    "logit_reg = LogisticRegression(fit_intercept=True, C=1e42, solver='liblinear')\n",
    "logit_reg.fit(train_X, train_y)\n",
    "\n",
    "# Get the intercept and coefficients of the logistic regression\n",
    "logit_reg_intercept = logit_reg.intercept_[0]\n",
    "logit_reg_coeff = logit_reg.coef_[0]\n",
    "\n",
    "# Get the class predictions of the model, along with its probabilities \n",
    "train_pred_class = logit_reg.predict(train_X)\n",
    "train_pred_prob = logit_reg.predict_proba(train_X)\n",
    "\n",
    "# Print intercept and model coefficients\n",
    "# print('Logistic regression intercept: ', logit_reg_intercept)\n",
    "# print(\"Logistic regression variables and their coefficients:\")\n",
    "# pd.DataFrame({'coeff': logit_reg_coeff}, index=train_X.columns) #DataFrame of variables and coeff"
   ]
  },
  {
   "cell_type": "markdown",
   "metadata": {},
   "source": [
    "## Compare predicted class labels and actual class labels"
   ]
  },
  {
   "cell_type": "code",
   "execution_count": 6,
   "metadata": {},
   "outputs": [],
   "source": [
    "# comp_df = pd.DataFrame({'Actual_Class': train_y, 'Predicted_Class': logit_reg_pred})\n",
    "\n",
    "# print(comp_df.Actual_Class.value_counts()/len(comp_df))\n",
    "# print(\"\\n\")\n",
    "# print(comp_df.Predicted_Class.value_counts()/len(comp_df))"
   ]
  },
  {
   "cell_type": "markdown",
   "metadata": {},
   "source": [
    "## Use the statsmodel package to model \"Personal_Loan\""
   ]
  },
  {
   "cell_type": "code",
   "execution_count": 7,
   "metadata": {},
   "outputs": [
    {
     "name": "stdout",
     "output_type": "stream",
     "text": [
      "Optimization terminated successfully.\n",
      "         Current function value: 0.113383\n",
      "         Iterations 9\n"
     ]
    }
   ],
   "source": [
    "new_train_X = sm.add_constant(train_X) #Add a column of ones\n",
    "logistic = sm.Logit(train_y, new_train_X).fit() #Fit the logistic regression\n",
    "logit_coeff = logistic.params #Get the coefficients\n",
    "\n",
    "# print(logistic.summary())"
   ]
  },
  {
   "cell_type": "markdown",
   "metadata": {},
   "source": [
    "## Use the logistic regression on unseen data\n",
    "1. Use the logistic regression to \"score\" the testing data\n",
    "2. Obtain probabilities for the testing data"
   ]
  },
  {
   "cell_type": "code",
   "execution_count": 56,
   "metadata": {},
   "outputs": [
    {
     "data": {
      "text/html": [
       "<div>\n",
       "<style scoped>\n",
       "    .dataframe tbody tr th:only-of-type {\n",
       "        vertical-align: middle;\n",
       "    }\n",
       "\n",
       "    .dataframe tbody tr th {\n",
       "        vertical-align: top;\n",
       "    }\n",
       "\n",
       "    .dataframe thead th {\n",
       "        text-align: right;\n",
       "    }\n",
       "</style>\n",
       "<table border=\"1\" class=\"dataframe\">\n",
       "  <thead>\n",
       "    <tr style=\"text-align: right;\">\n",
       "      <th></th>\n",
       "      <th>Actual Class</th>\n",
       "      <th>Predicted Class</th>\n",
       "      <th>P(Y=0)</th>\n",
       "      <th>P(Y=1)</th>\n",
       "    </tr>\n",
       "  </thead>\n",
       "  <tbody>\n",
       "    <tr>\n",
       "      <th>2764</th>\n",
       "      <td>0</td>\n",
       "      <td>0</td>\n",
       "      <td>0.976150</td>\n",
       "      <td>0.023850</td>\n",
       "    </tr>\n",
       "    <tr>\n",
       "      <th>4767</th>\n",
       "      <td>0</td>\n",
       "      <td>0</td>\n",
       "      <td>0.999937</td>\n",
       "      <td>0.000063</td>\n",
       "    </tr>\n",
       "    <tr>\n",
       "      <th>3814</th>\n",
       "      <td>0</td>\n",
       "      <td>0</td>\n",
       "      <td>0.999901</td>\n",
       "      <td>0.000099</td>\n",
       "    </tr>\n",
       "    <tr>\n",
       "      <th>3499</th>\n",
       "      <td>0</td>\n",
       "      <td>0</td>\n",
       "      <td>0.998397</td>\n",
       "      <td>0.001603</td>\n",
       "    </tr>\n",
       "    <tr>\n",
       "      <th>2735</th>\n",
       "      <td>0</td>\n",
       "      <td>0</td>\n",
       "      <td>0.957402</td>\n",
       "      <td>0.042598</td>\n",
       "    </tr>\n",
       "  </tbody>\n",
       "</table>\n",
       "</div>"
      ],
      "text/plain": [
       "      Actual Class  Predicted Class    P(Y=0)    P(Y=1)\n",
       "2764             0                0  0.976150  0.023850\n",
       "4767             0                0  0.999937  0.000063\n",
       "3814             0                0  0.999901  0.000099\n",
       "3499             0                0  0.998397  0.001603\n",
       "2735             0                0  0.957402  0.042598"
      ]
     },
     "execution_count": 56,
     "metadata": {},
     "output_type": "execute_result"
    }
   ],
   "source": [
    "# Get the class predictions of the testing data\n",
    "\n",
    "test_pred_class = logit_reg.predict(test_X)\n",
    "test_pred_prob = logit_reg.predict_proba(test_X)\n",
    "pred_summary = pd.DataFrame({\"Actual Class\": test_y, \"Predicted Class\": test_pred_class,\\\n",
    "                             \"P(Y=0)\":test_pred_prob[:,0], \"P(Y=1)\":test_pred_prob[:,1]})\n",
    "pred_summary.head()"
   ]
  },
  {
   "cell_type": "code",
   "execution_count": null,
   "metadata": {},
   "outputs": [],
   "source": []
  },
  {
   "cell_type": "markdown",
   "metadata": {},
   "source": [
    "## Model Evaluation\n",
    "1. Provide the confusion matrix and comment on it"
   ]
  },
  {
   "cell_type": "code",
   "execution_count": 9,
   "metadata": {},
   "outputs": [
    {
     "name": "stdout",
     "output_type": "stream",
     "text": [
      "no display found. Using non-interactive Agg backend\n",
      "Confusion Matrix (Accuracy 0.9600)\n",
      "\n",
      "       Prediction\n",
      "Actual    0    1\n",
      "     0 2683   30\n",
      "     1   90  197\n",
      "Confusion Matrix (Accuracy 0.9600)\n",
      "\n",
      "       Prediction\n",
      "Actual    0    1\n",
      "     0 1791   16\n",
      "     1   64  129\n"
     ]
    }
   ],
   "source": [
    "from dmba import classificationSummary\n",
    "\n",
    "# Confusion matrix for training data\n",
    "classificationSummary(train_y, train_pred_class)\n",
    "\n",
    "# Confusion matrix for testing data\n",
    "classificationSummary(test_y, test_pred_class)"
   ]
  },
  {
   "cell_type": "markdown",
   "metadata": {},
   "source": [
    "## Model Evaluation\n",
    "1. Provide the model's accuracy rate and comment on it\n",
    "2. Provide the model's misclassification rate and comment on it"
   ]
  },
  {
   "cell_type": "code",
   "execution_count": 10,
   "metadata": {},
   "outputs": [
    {
     "name": "stdout",
     "output_type": "stream",
     "text": [
      "Accuracy rate for training data: 0.96\n",
      "Accuracy rate for testing data: 0.96\n",
      "\n",
      "Misclassification rate for training data: 0.040000000000000036\n",
      "Misclassification rate for testing data: 0.040000000000000036\n"
     ]
    }
   ],
   "source": [
    "from sklearn.metrics import accuracy_score\n",
    "\n",
    "train_accuracy = accuracy_score(train_y, train_pred_class)\n",
    "test_accuracy = accuracy_score(test_y, test_pred_class)\n",
    "\n",
    "# Get misclassification rate\n",
    "train_misclass = 1 - train_accuracy\n",
    "test_misclass = 1 - test_accuracy\n",
    "\n",
    "print(\"Accuracy rate for training data:\", train_accuracy)\n",
    "print(\"Accuracy rate for testing data:\", test_accuracy)\n",
    "\n",
    "print(\"\\nMisclassification rate for training data:\", train_misclass)\n",
    "print(\"Misclassification rate for testing data:\", test_misclass)"
   ]
  },
  {
   "cell_type": "markdown",
   "metadata": {},
   "source": [
    "## Model Evaluation\n",
    "1. Provide the sensitivity (Recall) and comment on it\n",
    "2. Provide the specificity and comment on it"
   ]
  },
  {
   "cell_type": "code",
   "execution_count": 11,
   "metadata": {},
   "outputs": [
    {
     "name": "stdout",
     "output_type": "stream",
     "text": [
      "True positive rate for training data: 0.686411149825784\n",
      "True positive rate for testing data: 0.6683937823834197\n"
     ]
    }
   ],
   "source": [
    "# Compute sensitivity. Sensitivity is also called true positive rate or recall\n",
    "# From the confusion tabel: among those that are \"0\", how many of them are actually \"0\"\n",
    "\n",
    "from sklearn.metrics import recall_score\n",
    "\n",
    "train_recall = recall_score(train_y, train_pred_class)\n",
    "test_recall = recall_score(test_y, test_pred_class)\n",
    "\n",
    "print(\"True positive rate for training data:\", train_recall)\n",
    "print(\"True positive rate for testing data:\", test_recall)"
   ]
  },
  {
   "cell_type": "markdown",
   "metadata": {},
   "source": [
    "## Model Evaluation\n",
    "1. Provide the ROC curve and comment on it"
   ]
  },
  {
   "cell_type": "code",
   "execution_count": 59,
   "metadata": {},
   "outputs": [
    {
     "data": {
      "image/png": "[encoded data removed]",
      "text/plain": [
       "<Figure size 432x288 with 1 Axes>"
      ]
     },
     "metadata": {
      "needs_background": "light"
     },
     "output_type": "display_data"
    }
   ],
   "source": [
    "from sklearn.metrics import roc_curve\n",
    "from sklearn.metrics import roc_auc_score\n",
    "\n",
    "%matplotlib inline\n",
    "import matplotlib.pylab as plt\n",
    "# %pylab inline\n",
    "\n",
    "# Calculate AUC for train and test data\n",
    "auc_train = roc_auc_score(train_y, train_pred_class)\n",
    "auc_test = roc_auc_score(test_y, test_pred_class)\n",
    "\n",
    "# calculate fpr and tpr for train and test data\n",
    "fpr_train, tpr_train, _ = roc_curve(train_y, train_pred_class)\n",
    "fpr_test, tpr_test, _ = roc_curve(test_y, test_pred_class)\n",
    "\n",
    "# Plotting\n",
    "plt.plot(fpr_train, tpr_train, linestyle='--', label=\"{}{:.3f}\".format(\"Train AUC=\", auc_train))\n",
    "plt.plot(fpr_test, tpr_test, linestyle='--', label=\"{}{:.3f}\".format(\"Test AUC=\", auc_test))\n",
    "plt.plot([0, 1], [0, 1], linestyle='solid', c='k')\n",
    "\n",
    "plt.title(\"Logistic Regression ROC Curve\")\n",
    "plt.xlabel(\"False Positive Rate\")\n",
    "plt.ylabel(\"True Positive Rate\")\n",
    "plt.legend(loc='lower right')\n",
    "plt.show()"
   ]
  },
  {
   "cell_type": "markdown",
   "metadata": {},
   "source": [
    "## Model Evaluation\n",
    "1. Provide the Gains/ Decile chart and comment on it"
   ]
  },
  {
   "cell_type": "code",
   "execution_count": 70,
   "metadata": {},
   "outputs": [
    {
     "data": {
      "image/png": "[encoded data removed]",
      "text/plain": [
       "<Figure size 720x288 with 2 Axes>"
      ]
     },
     "metadata": {
      "needs_background": "light"
     },
     "output_type": "display_data"
    }
   ],
   "source": [
    "from dmba import gainsChart, liftChart\n",
    "\n",
    "pred_summary = pd.DataFrame({\"Actual_Class\": test_y, \"Predicted_Class\": test_pred_class,\\\n",
    "                             \"P(Y=0)\":test_pred_prob[:,0], \"P(Y=1)\":test_pred_prob[:,1]})\n",
    "\n",
    "# Create the Gains table\n",
    "gains_table = pred_summary.sort_values(by='P(Y=1)', ascending=False)\n",
    "\n",
    "# Plot Gains and Decile chart\n",
    "fig, axes = plt.subplots(nrows=1, ncols=2, figsize=(10,4))\n",
    "gainsChart(gains_table.Actual_Class, ax=axes[0])\n",
    "liftChart(gains_table.Actual_Class, ax=axes[1])\n",
    "plt.show()"
   ]
  },
  {
   "cell_type": "code",
   "execution_count": null,
   "metadata": {},
   "outputs": [],
   "source": []
  }
 ],
 "metadata": {
  "kernelspec": {
   "display_name": "Python 3",
   "language": "python",
   "name": "python3"
  },
  "language_info": {
   "codemirror_mode": {
    "name": "ipython",
    "version": 3
   },
   "file_extension": ".py",
   "mimetype": "text/x-python",
   "name": "python",
   "nbconvert_exporter": "python",
   "pygments_lexer": "ipython3",
   "version": "3.8.3"
  }
 },
 "nbformat": 4,
 "nbformat_minor": 4
}
