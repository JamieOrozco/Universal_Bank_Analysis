{
 "cells": [
  {
   "cell_type": "markdown",
   "metadata": {},
   "source": [
    "# k-Nearest Neighbors (kNN)\n",
    "1. For prediction, identify k records in the training data that are \"similar\" to a new record in the testing data\n",
    "    1. These similar records are called neighbors\n",
    "2. Use these similar records to classify the new record into a class\n",
    "    1. The class label of the new record is the predominant class among the class label of the neighbors\n",
    "3. kNN can be used for regression problems too"
   ]
  },
  {
   "cell_type": "markdown",
   "metadata": {},
   "source": [
    "## KNN In Picture\n",
    "1. Classify individuals as home owners or not"
   ]
  },
  {
   "cell_type": "markdown",
   "metadata": {},
   "source": [
    "![alt text](knn.png \"Title\")"
   ]
  },
  {
   "cell_type": "markdown",
   "metadata": {},
   "source": [
    "## Import Required Packages"
   ]
  },
  {
   "cell_type": "code",
   "execution_count": 1,
   "metadata": {},
   "outputs": [],
   "source": [
    "%matplotlib inline\n",
    "import matplotlib.pylab as plt\n",
    "\n",
    "import numpy as np\n",
    "import pandas as pd"
   ]
  },
  {
   "cell_type": "markdown",
   "metadata": {},
   "source": [
    "## Import Data"
   ]
  },
  {
   "cell_type": "code",
   "execution_count": 2,
   "metadata": {},
   "outputs": [
    {
     "data": {
      "text/html": [
       "<div>\n",
       "<style scoped>\n",
       "    .dataframe tbody tr th:only-of-type {\n",
       "        vertical-align: middle;\n",
       "    }\n",
       "\n",
       "    .dataframe tbody tr th {\n",
       "        vertical-align: top;\n",
       "    }\n",
       "\n",
       "    .dataframe thead th {\n",
       "        text-align: right;\n",
       "    }\n",
       "</style>\n",
       "<table border=\"1\" class=\"dataframe\">\n",
       "  <thead>\n",
       "    <tr style=\"text-align: right;\">\n",
       "      <th></th>\n",
       "      <th>ID</th>\n",
       "      <th>Age</th>\n",
       "      <th>Experience</th>\n",
       "      <th>Income</th>\n",
       "      <th>ZIP Code</th>\n",
       "      <th>Family</th>\n",
       "      <th>CCAvg</th>\n",
       "      <th>Education</th>\n",
       "      <th>Mortgage</th>\n",
       "      <th>Personal Loan</th>\n",
       "      <th>Securities Account</th>\n",
       "      <th>CD Account</th>\n",
       "      <th>Online</th>\n",
       "      <th>CreditCard</th>\n",
       "    </tr>\n",
       "  </thead>\n",
       "  <tbody>\n",
       "    <tr>\n",
       "      <th>0</th>\n",
       "      <td>1</td>\n",
       "      <td>25</td>\n",
       "      <td>1</td>\n",
       "      <td>49</td>\n",
       "      <td>91107</td>\n",
       "      <td>4</td>\n",
       "      <td>1.6</td>\n",
       "      <td>1</td>\n",
       "      <td>0</td>\n",
       "      <td>0</td>\n",
       "      <td>1</td>\n",
       "      <td>0</td>\n",
       "      <td>0</td>\n",
       "      <td>0</td>\n",
       "    </tr>\n",
       "    <tr>\n",
       "      <th>1</th>\n",
       "      <td>2</td>\n",
       "      <td>45</td>\n",
       "      <td>19</td>\n",
       "      <td>34</td>\n",
       "      <td>90089</td>\n",
       "      <td>3</td>\n",
       "      <td>1.5</td>\n",
       "      <td>1</td>\n",
       "      <td>0</td>\n",
       "      <td>0</td>\n",
       "      <td>1</td>\n",
       "      <td>0</td>\n",
       "      <td>0</td>\n",
       "      <td>0</td>\n",
       "    </tr>\n",
       "    <tr>\n",
       "      <th>2</th>\n",
       "      <td>3</td>\n",
       "      <td>39</td>\n",
       "      <td>15</td>\n",
       "      <td>11</td>\n",
       "      <td>94720</td>\n",
       "      <td>1</td>\n",
       "      <td>1.0</td>\n",
       "      <td>1</td>\n",
       "      <td>0</td>\n",
       "      <td>0</td>\n",
       "      <td>0</td>\n",
       "      <td>0</td>\n",
       "      <td>0</td>\n",
       "      <td>0</td>\n",
       "    </tr>\n",
       "    <tr>\n",
       "      <th>3</th>\n",
       "      <td>4</td>\n",
       "      <td>35</td>\n",
       "      <td>9</td>\n",
       "      <td>100</td>\n",
       "      <td>94112</td>\n",
       "      <td>1</td>\n",
       "      <td>2.7</td>\n",
       "      <td>2</td>\n",
       "      <td>0</td>\n",
       "      <td>0</td>\n",
       "      <td>0</td>\n",
       "      <td>0</td>\n",
       "      <td>0</td>\n",
       "      <td>0</td>\n",
       "    </tr>\n",
       "    <tr>\n",
       "      <th>4</th>\n",
       "      <td>5</td>\n",
       "      <td>35</td>\n",
       "      <td>8</td>\n",
       "      <td>45</td>\n",
       "      <td>91330</td>\n",
       "      <td>4</td>\n",
       "      <td>1.0</td>\n",
       "      <td>2</td>\n",
       "      <td>0</td>\n",
       "      <td>0</td>\n",
       "      <td>0</td>\n",
       "      <td>0</td>\n",
       "      <td>0</td>\n",
       "      <td>1</td>\n",
       "    </tr>\n",
       "  </tbody>\n",
       "</table>\n",
       "</div>"
      ],
      "text/plain": [
       "   ID  Age  Experience  Income  ZIP Code  Family  CCAvg  Education  Mortgage  \\\n",
       "0   1   25           1      49     91107       4    1.6          1         0   \n",
       "1   2   45          19      34     90089       3    1.5          1         0   \n",
       "2   3   39          15      11     94720       1    1.0          1         0   \n",
       "3   4   35           9     100     94112       1    2.7          2         0   \n",
       "4   5   35           8      45     91330       4    1.0          2         0   \n",
       "\n",
       "   Personal Loan  Securities Account  CD Account  Online  CreditCard  \n",
       "0              0                   1           0       0           0  \n",
       "1              0                   1           0       0           0  \n",
       "2              0                   0           0       0           0  \n",
       "3              0                   0           0       0           0  \n",
       "4              0                   0           0       0           1  "
      ]
     },
     "execution_count": 2,
     "metadata": {},
     "output_type": "execute_result"
    }
   ],
   "source": [
    "bank_df = pd.read_csv('UniversalBank.csv')\n",
    "bank_df.head()"
   ]
  },
  {
   "cell_type": "markdown",
   "metadata": {},
   "source": [
    "## Data Preprocessing\n",
    "1. The \"ID\" and \"ZIP Code\" columns are not relevant for model building and therefore should be removed.\n",
    "2. If a column name has a space, replace the space with an underscore (_)\n",
    "3. Change the \"Education\" variable to be type \"category\". Rename the values (1,2,3) of Education variable to the following:\n",
    "    1. 1 = \"Undergrad\"\n",
    "    2. 2 = \"Graduate\"\n",
    "    3. 3 = \"Advanced/Professional\"\n",
    "4. Turn the renamed variable to be a dummy variable"
   ]
  },
  {
   "cell_type": "code",
   "execution_count": 3,
   "metadata": {},
   "outputs": [],
   "source": [
    "# Delete the ID and ZIP code columns\n",
    "bank_dfv2 = bank_df.drop(columns=['ID', 'ZIP Code'])\n",
    "\n",
    "# Replace space with underscore in column names\n",
    "bank_dfv2.columns = bank_dfv2.columns.str.replace(' ', '_')\n",
    "\n",
    "# Change \"Education\" column as categorical\n",
    "bank_dfv2['Education'] = bank_dfv2['Education'].astype('category')\n",
    "\n",
    "# Rename \"Education\" values of 1, 2 and 3 to \"Undergrad\", \"Graduate\" and \"Advanced/ Professional\"\n",
    "new_categories = {1:'Undergrad', 2:'Graduate', 3:'Advanced/Professional'}\n",
    "bank_dfv2.Education.cat.rename_categories(new_categories, inplace=True)\n",
    "\n",
    "# Create dummy variables for the categorical data\n",
    "bank_dfv3 = pd.get_dummies(bank_dfv2, prefix_sep='_', drop_first=True)"
   ]
  },
  {
   "cell_type": "markdown",
   "metadata": {},
   "source": [
    "## Data Preprocessing\n",
    "1. Identify dependent and independent variables\n",
    "2. Standardize the data to negate effect of variable scale (income vs height)\n",
    "4. Split data into training and testing data\n",
    "    1. 60% training and 40% testing"
   ]
  },
  {
   "cell_type": "code",
   "execution_count": 7,
   "metadata": {},
   "outputs": [],
   "source": [
    "from sklearn.model_selection import train_test_split\n",
    "from sklearn.preprocessing import StandardScaler\n",
    "\n",
    "# Identify dependent and independent variables\n",
    "y = bank_dfv3['Personal_Loan']\n",
    "X = bank_dfv3.drop(columns=['Personal_Loan'])\n",
    "\n",
    "#Standardize independent variables in ALL data (zero mean and unit variance)\n",
    "std_X = StandardScaler().fit_transform(X)\n",
    "std_X_df = pd.DataFrame(std_X, columns=X.columns)\n",
    "\n",
    "# Partition data into training (60%) and testing (40%)\n",
    "train_X, test_X, train_y, test_y = train_test_split(std_X_df, y, test_size=0.4, random_state=1)"
   ]
  },
  {
   "cell_type": "markdown",
   "metadata": {},
   "source": [
    "## Modeling \"Personal Loans\"\n",
    "1. Fit the kNN model on the training data\n",
    "    1. The choice of \"k\" is crucial\n",
    "    2. KNN is a non-parametric model\n",
    "2. Fit the discriminant analysis model on the training data\n",
    "3. Fit the logistic regression model on the training data"
   ]
  },
  {
   "cell_type": "code",
   "execution_count": 10,
   "metadata": {},
   "outputs": [
    {
     "data": {
      "text/plain": [
       "LogisticRegression(C=1e+42, solver='liblinear')"
      ]
     },
     "execution_count": 10,
     "metadata": {},
     "output_type": "execute_result"
    }
   ],
   "source": [
    "\n",
    "\n",
    "\n"
   ]
  },
  {
   "cell_type": "markdown",
   "metadata": {},
   "source": [
    "## Modeling \"Personal Loans\"\n",
    "1. For each model get\n",
    "    1. Class prediction label of the training\n",
    "    2. Probabilities of belonging to the class of the training and testing data"
   ]
  },
  {
   "cell_type": "code",
   "execution_count": 15,
   "metadata": {},
   "outputs": [
    {
     "name": "stdout",
     "output_type": "stream",
     "text": [
      "Class predictions for training data\n"
     ]
    },
    {
     "data": {
      "text/html": [
       "<div>\n",
       "<style scoped>\n",
       "    .dataframe tbody tr th:only-of-type {\n",
       "        vertical-align: middle;\n",
       "    }\n",
       "\n",
       "    .dataframe tbody tr th {\n",
       "        vertical-align: top;\n",
       "    }\n",
       "\n",
       "    .dataframe thead th {\n",
       "        text-align: right;\n",
       "    }\n",
       "</style>\n",
       "<table border=\"1\" class=\"dataframe\">\n",
       "  <thead>\n",
       "    <tr style=\"text-align: right;\">\n",
       "      <th></th>\n",
       "      <th>Actual_Class</th>\n",
       "      <th>kNN_Prediction</th>\n",
       "      <th>DA_Prediction</th>\n",
       "      <th>Logistic_Prediction</th>\n",
       "    </tr>\n",
       "  </thead>\n",
       "  <tbody>\n",
       "    <tr>\n",
       "      <th>4522</th>\n",
       "      <td>0</td>\n",
       "      <td>0</td>\n",
       "      <td>0</td>\n",
       "      <td>0</td>\n",
       "    </tr>\n",
       "    <tr>\n",
       "      <th>2851</th>\n",
       "      <td>0</td>\n",
       "      <td>0</td>\n",
       "      <td>0</td>\n",
       "      <td>0</td>\n",
       "    </tr>\n",
       "    <tr>\n",
       "      <th>2313</th>\n",
       "      <td>0</td>\n",
       "      <td>0</td>\n",
       "      <td>0</td>\n",
       "      <td>0</td>\n",
       "    </tr>\n",
       "    <tr>\n",
       "      <th>982</th>\n",
       "      <td>0</td>\n",
       "      <td>0</td>\n",
       "      <td>0</td>\n",
       "      <td>0</td>\n",
       "    </tr>\n",
       "    <tr>\n",
       "      <th>1164</th>\n",
       "      <td>1</td>\n",
       "      <td>1</td>\n",
       "      <td>1</td>\n",
       "      <td>1</td>\n",
       "    </tr>\n",
       "  </tbody>\n",
       "</table>\n",
       "</div>"
      ],
      "text/plain": [
       "      Actual_Class  kNN_Prediction  DA_Prediction  Logistic_Prediction\n",
       "4522             0               0              0                    0\n",
       "2851             0               0              0                    0\n",
       "2313             0               0              0                    0\n",
       "982              0               0              0                    0\n",
       "1164             1               1              1                    1"
      ]
     },
     "execution_count": 15,
     "metadata": {},
     "output_type": "execute_result"
    }
   ],
   "source": []
  },
  {
   "cell_type": "markdown",
   "metadata": {},
   "source": [
    "## Modeling \"Personal Loans\"\n",
    "1. For each model get\n",
    "    1. Probabilities of belonging to the class of the training"
   ]
  },
  {
   "cell_type": "code",
   "execution_count": 17,
   "metadata": {},
   "outputs": [
    {
     "name": "stdout",
     "output_type": "stream",
     "text": [
      "Class predictions for training data\n"
     ]
    },
    {
     "data": {
      "text/html": [
       "<div>\n",
       "<style scoped>\n",
       "    .dataframe tbody tr th:only-of-type {\n",
       "        vertical-align: middle;\n",
       "    }\n",
       "\n",
       "    .dataframe tbody tr th {\n",
       "        vertical-align: top;\n",
       "    }\n",
       "\n",
       "    .dataframe thead th {\n",
       "        text-align: right;\n",
       "    }\n",
       "</style>\n",
       "<table border=\"1\" class=\"dataframe\">\n",
       "  <thead>\n",
       "    <tr style=\"text-align: right;\">\n",
       "      <th></th>\n",
       "      <th>kNN_Probability_P(Y=0)</th>\n",
       "      <th>DA_Probability_P(Y=0)</th>\n",
       "      <th>Logistic_Probability_P(Y=0)</th>\n",
       "    </tr>\n",
       "  </thead>\n",
       "  <tbody>\n",
       "    <tr>\n",
       "      <th>0</th>\n",
       "      <td>1.0</td>\n",
       "      <td>0.999982</td>\n",
       "      <td>0.999985</td>\n",
       "    </tr>\n",
       "    <tr>\n",
       "      <th>1</th>\n",
       "      <td>1.0</td>\n",
       "      <td>0.979038</td>\n",
       "      <td>0.943801</td>\n",
       "    </tr>\n",
       "    <tr>\n",
       "      <th>2</th>\n",
       "      <td>1.0</td>\n",
       "      <td>0.998897</td>\n",
       "      <td>0.996905</td>\n",
       "    </tr>\n",
       "    <tr>\n",
       "      <th>3</th>\n",
       "      <td>1.0</td>\n",
       "      <td>0.997964</td>\n",
       "      <td>0.994108</td>\n",
       "    </tr>\n",
       "    <tr>\n",
       "      <th>4</th>\n",
       "      <td>0.0</td>\n",
       "      <td>0.037132</td>\n",
       "      <td>0.198476</td>\n",
       "    </tr>\n",
       "  </tbody>\n",
       "</table>\n",
       "</div>"
      ],
      "text/plain": [
       "   kNN_Probability_P(Y=0)  DA_Probability_P(Y=0)  Logistic_Probability_P(Y=0)\n",
       "0                     1.0               0.999982                     0.999985\n",
       "1                     1.0               0.979038                     0.943801\n",
       "2                     1.0               0.998897                     0.996905\n",
       "3                     1.0               0.997964                     0.994108\n",
       "4                     0.0               0.037132                     0.198476"
      ]
     },
     "execution_count": 17,
     "metadata": {},
     "output_type": "execute_result"
    }
   ],
   "source": [
    "# kNN class label for training and testing data\n",
    "knn_prob_train = knn.predict_proba(train_X)\n",
    "knn_prob_test = knn.predict_proba(test_X)\n",
    "\n",
    "# discriminant analysis class label for training and testing data\n",
    "da_prob_train = da.predict_proba(train_X)\n",
    "da_prob_test = da.predict_proba(test_X)\n",
    "\n",
    "# discriminant analysis class label for training and testing data\n",
    "log_prob_train = log.predict_proba(train_X)\n",
    "log_prob_test = log.predict_proba(test_X)\n",
    "\n",
    "# Summary of training data predictions\n",
    "pred_summary = pd.DataFrame({\"kNN_Probability_P(Y=0)\": knn_prob_train[:,0],\\\n",
    "                             \"DA_Probability_P(Y=0)\":da_prob_train[:,0],\\\n",
    "                             \"Logistic_Probability_P(Y=0)\":log_prob_train[:,0]})\n",
    "\n",
    "print(\"Class predictions for training data\")\n",
    "pred_summary.head()"
   ]
  },
  {
   "cell_type": "markdown",
   "metadata": {},
   "source": [
    "## Model Evaluation\n",
    "1. Provide the model's accuracy rate and comment on it\n",
    "2. Provide the model's misclassification rate and comment on it"
   ]
  },
  {
   "cell_type": "code",
   "execution_count": 19,
   "metadata": {},
   "outputs": [
    {
     "name": "stdout",
     "output_type": "stream",
     "text": [
      "Accuracy rate for knn: 0.952\n",
      "Accuracy rate for linear discriminant analysis: 0.944\n",
      "Accuracy rate for logistic regression: 0.96\n",
      "\n",
      "Misclassification rate for kNN: 0.048\n",
      "Misclassification rate for linear discriminant analysis: 0.056\n",
      "Misclassification rate for logistic regression: 0.04\n"
     ]
    }
   ],
   "source": [
    "from sklearn.metrics import accuracy_score\n",
    "\n",
    "# Accuracy rate for knn, LDA and logistic\n",
    "knn_test_accuracy = accuracy_score(test_y, knn_pred_test)\n",
    "da_test_accuracy = accuracy_score(test_y, da_pred_test)\n",
    "log_test_accuracy = accuracy_score(test_y, log_pred_test)\n",
    "\n",
    "# Get misclassification rate\n",
    "knn_test_misclass = round(1 - knn_test_accuracy, 4)\n",
    "da_test_misclass = round(1 - da_test_accuracy, 4)\n",
    "log_test_misclass = round(1 - log_test_accuracy, 4)\n",
    "\n",
    "print(\"Accuracy rate for knn:\", knn_test_accuracy)\n",
    "print(\"Accuracy rate for linear discriminant analysis:\", da_test_accuracy)\n",
    "print(\"Accuracy rate for logistic regression:\", log_test_accuracy)\n",
    "\n",
    "print(\"\\nMisclassification rate for kNN:\", knn_test_misclass)\n",
    "print(\"Misclassification rate for linear discriminant analysis:\", da_test_misclass)\n",
    "print(\"Misclassification rate for logistic regression:\", log_test_misclass)"
   ]
  },
  {
   "cell_type": "markdown",
   "metadata": {},
   "source": [
    "## Model Evaluation\n",
    "1. Provide the ROC curve and comment on it"
   ]
  },
  {
   "cell_type": "code",
   "execution_count": 22,
   "metadata": {},
   "outputs": [
    {
     "data": {
      "image/png": "[encoded data removed]",
      "text/plain": [
       "<Figure size 432x288 with 1 Axes>"
      ]
     },
     "metadata": {
      "needs_background": "light"
     },
     "output_type": "display_data"
    }
   ],
   "source": [
    "from sklearn.metrics import roc_curve\n",
    "from sklearn.metrics import roc_auc_score\n",
    "\n",
    "# Calculate AUC for test data\n",
    "knn_auc_test = roc_auc_score(test_y, knn_pred_test)\n",
    "da_auc_test = roc_auc_score(test_y, da_pred_test)\n",
    "log_auc_test = roc_auc_score(test_y, log_pred_test)\n",
    "\n",
    "# calculate fpr and tpr for logistic regression and linear discriminant analysis\n",
    "knn_fpr_test, knn_tpr_test, _ = roc_curve(test_y, knn_pred_test)\n",
    "da_fpr_test, da_tpr_test, _ = roc_curve(test_y, da_pred_test)\n",
    "log_fpr_test, log_tpr_test, _ = roc_curve(test_y, log_pred_test)\n",
    "\n",
    "# Plotting\n",
    "plt.plot(knn_fpr_test, knn_tpr_test, linestyle='--', label=\"{}{:.3f}\".format(\"kNN AUC=\", knn_auc_test))\n",
    "plt.plot(da_fpr_test, da_tpr_test, linestyle='--', label=\"{}{:.3f}\".format(\"LDA AUC=\", da_auc_test))\n",
    "plt.plot(log_fpr_test, log_tpr_test, linestyle='--', label=\"{}{:.3f}\".format(\"Log. Reg AUC=\", log_auc_test))\n",
    "plt.plot([0, 1], [0, 1], linestyle='solid', c='k')\n",
    "\n",
    "plt.title(\"LDA vs. Logistic Regression vs KNN\")\n",
    "plt.xlabel(\"False Positive Rate\")\n",
    "plt.ylabel(\"True Positive Rate\")\n",
    "plt.legend(loc='lower right')\n",
    "plt.show()"
   ]
  },
  {
   "cell_type": "code",
   "execution_count": null,
   "metadata": {},
   "outputs": [],
   "source": []
  }
 ],
 "metadata": {
  "kernelspec": {
   "display_name": "Python 3",
   "language": "python",
   "name": "python3"
  },
  "language_info": {
   "codemirror_mode": {
    "name": "ipython",
    "version": 3
   },
   "file_extension": ".py",
   "mimetype": "text/x-python",
   "name": "python",
   "nbconvert_exporter": "python",
   "pygments_lexer": "ipython3",
   "version": "3.8.3"
  }
 },
 "nbformat": 4,
 "nbformat_minor": 4
}
