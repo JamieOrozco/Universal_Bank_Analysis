{
 "cells": [
  {
   "cell_type": "markdown",
   "metadata": {},
   "source": [
    "## Import Required Packages"
   ]
  },
  {
   "cell_type": "code",
   "execution_count": 3,
   "metadata": {},
   "outputs": [],
   "source": [
    "%matplotlib inline\n",
    "import matplotlib.pylab as plt\n",
    "\n",
    "import numpy as np\n",
    "import pandas as pd\n",
    "\n",
    "from sklearn.discriminant_analysis import LinearDiscriminantAnalysis\n",
    "from dmba import classificationSummary"
   ]
  },
  {
   "cell_type": "markdown",
   "metadata": {},
   "source": [
    "## Import Data"
   ]
  },
  {
   "cell_type": "code",
   "execution_count": 5,
   "metadata": {},
   "outputs": [
    {
     "data": {
      "text/html": [
       "<div>\n",
       "<style scoped>\n",
       "    .dataframe tbody tr th:only-of-type {\n",
       "        vertical-align: middle;\n",
       "    }\n",
       "\n",
       "    .dataframe tbody tr th {\n",
       "        vertical-align: top;\n",
       "    }\n",
       "\n",
       "    .dataframe thead th {\n",
       "        text-align: right;\n",
       "    }\n",
       "</style>\n",
       "<table border=\"1\" class=\"dataframe\">\n",
       "  <thead>\n",
       "    <tr style=\"text-align: right;\">\n",
       "      <th></th>\n",
       "      <th>ID</th>\n",
       "      <th>Age</th>\n",
       "      <th>Experience</th>\n",
       "      <th>Income</th>\n",
       "      <th>ZIP Code</th>\n",
       "      <th>Family</th>\n",
       "      <th>CCAvg</th>\n",
       "      <th>Education</th>\n",
       "      <th>Mortgage</th>\n",
       "      <th>Personal Loan</th>\n",
       "      <th>Securities Account</th>\n",
       "      <th>CD Account</th>\n",
       "      <th>Online</th>\n",
       "      <th>CreditCard</th>\n",
       "    </tr>\n",
       "  </thead>\n",
       "  <tbody>\n",
       "    <tr>\n",
       "      <th>0</th>\n",
       "      <td>1</td>\n",
       "      <td>25</td>\n",
       "      <td>1</td>\n",
       "      <td>49</td>\n",
       "      <td>91107</td>\n",
       "      <td>4</td>\n",
       "      <td>1.6</td>\n",
       "      <td>1</td>\n",
       "      <td>0</td>\n",
       "      <td>0</td>\n",
       "      <td>1</td>\n",
       "      <td>0</td>\n",
       "      <td>0</td>\n",
       "      <td>0</td>\n",
       "    </tr>\n",
       "    <tr>\n",
       "      <th>1</th>\n",
       "      <td>2</td>\n",
       "      <td>45</td>\n",
       "      <td>19</td>\n",
       "      <td>34</td>\n",
       "      <td>90089</td>\n",
       "      <td>3</td>\n",
       "      <td>1.5</td>\n",
       "      <td>1</td>\n",
       "      <td>0</td>\n",
       "      <td>0</td>\n",
       "      <td>1</td>\n",
       "      <td>0</td>\n",
       "      <td>0</td>\n",
       "      <td>0</td>\n",
       "    </tr>\n",
       "    <tr>\n",
       "      <th>2</th>\n",
       "      <td>3</td>\n",
       "      <td>39</td>\n",
       "      <td>15</td>\n",
       "      <td>11</td>\n",
       "      <td>94720</td>\n",
       "      <td>1</td>\n",
       "      <td>1.0</td>\n",
       "      <td>1</td>\n",
       "      <td>0</td>\n",
       "      <td>0</td>\n",
       "      <td>0</td>\n",
       "      <td>0</td>\n",
       "      <td>0</td>\n",
       "      <td>0</td>\n",
       "    </tr>\n",
       "    <tr>\n",
       "      <th>3</th>\n",
       "      <td>4</td>\n",
       "      <td>35</td>\n",
       "      <td>9</td>\n",
       "      <td>100</td>\n",
       "      <td>94112</td>\n",
       "      <td>1</td>\n",
       "      <td>2.7</td>\n",
       "      <td>2</td>\n",
       "      <td>0</td>\n",
       "      <td>0</td>\n",
       "      <td>0</td>\n",
       "      <td>0</td>\n",
       "      <td>0</td>\n",
       "      <td>0</td>\n",
       "    </tr>\n",
       "    <tr>\n",
       "      <th>4</th>\n",
       "      <td>5</td>\n",
       "      <td>35</td>\n",
       "      <td>8</td>\n",
       "      <td>45</td>\n",
       "      <td>91330</td>\n",
       "      <td>4</td>\n",
       "      <td>1.0</td>\n",
       "      <td>2</td>\n",
       "      <td>0</td>\n",
       "      <td>0</td>\n",
       "      <td>0</td>\n",
       "      <td>0</td>\n",
       "      <td>0</td>\n",
       "      <td>1</td>\n",
       "    </tr>\n",
       "  </tbody>\n",
       "</table>\n",
       "</div>"
      ],
      "text/plain": [
       "   ID  Age  Experience  Income  ZIP Code  Family  CCAvg  Education  Mortgage  \\\n",
       "0   1   25           1      49     91107       4    1.6          1         0   \n",
       "1   2   45          19      34     90089       3    1.5          1         0   \n",
       "2   3   39          15      11     94720       1    1.0          1         0   \n",
       "3   4   35           9     100     94112       1    2.7          2         0   \n",
       "4   5   35           8      45     91330       4    1.0          2         0   \n",
       "\n",
       "   Personal Loan  Securities Account  CD Account  Online  CreditCard  \n",
       "0              0                   1           0       0           0  \n",
       "1              0                   1           0       0           0  \n",
       "2              0                   0           0       0           0  \n",
       "3              0                   0           0       0           0  \n",
       "4              0                   0           0       0           1  "
      ]
     },
     "execution_count": 5,
     "metadata": {},
     "output_type": "execute_result"
    }
   ],
   "source": [
    "bank_df = pd.read_csv('UniversalBank.csv')\n",
    "bank_df.head()"
   ]
  },
  {
   "cell_type": "markdown",
   "metadata": {},
   "source": [
    "## Data Preprocessing\n",
    "1. The \"ID\" and \"ZIP Code\" columns are not relevant for model building and therefore should be removed.\n",
    "2. If a column name has a space, replace the space with an underscore (_)\n",
    "3. Change the \"Education\" variable to be type \"category\". Rename the values (1,2,3) of Education variable to the following:\n",
    "    1. 1 = \"Undergrad\"\n",
    "    2. 2 = \"Graduate\"\n",
    "    3. 3 = \"Advanced/Professional\"\n",
    "4. Turn the renamed variable to be a dummy variable"
   ]
  },
  {
   "cell_type": "code",
   "execution_count": 6,
   "metadata": {},
   "outputs": [],
   "source": [
    "# Delete the ID and ZIP code columns\n",
    "bank_dfv2 = bank_df.drop(columns=['ID', 'ZIP Code'])\n",
    "\n",
    "# Replace space with underscore in column names\n",
    "bank_dfv2.columns = bank_dfv2.columns.str.replace(' ', '_')\n",
    "\n",
    "# Change \"Education\" column as categorical\n",
    "bank_dfv2['Education'] = bank_dfv2['Education'].astype('category')\n",
    "\n",
    "# Rename \"Education\" values of 1, 2 and 3 to \"Undergrad\", \"Graduate\" and \"Advanced/ Professional\"\n",
    "new_categories = {1:'Undergrad', 2:'Graduate', 3:'Advanced/Professional'}\n",
    "bank_dfv2.Education.cat.rename_categories(new_categories, inplace=True)\n",
    "\n",
    "# Create dummy variables for the categorical data\n",
    "bank_dfv3 = pd.get_dummies(bank_dfv2, prefix_sep='_', drop_first=True)"
   ]
  },
  {
   "cell_type": "markdown",
   "metadata": {},
   "source": [
    "## Data Preprocessing\n",
    "1. Identify dependent and independent variables\n",
    "2. Split data into training and testing data\n",
    "    1. 60% training and 40% testing"
   ]
  },
  {
   "cell_type": "code",
   "execution_count": 8,
   "metadata": {},
   "outputs": [],
   "source": [
    "from sklearn.model_selection import train_test_split\n",
    "\n",
    "# Identify dependent and independent variables\n",
    "y = bank_dfv3['Personal_Loan']\n",
    "X = bank_dfv3.drop(columns=['Personal_Loan'])\n",
    "\n",
    "# Partition data into training (60%) and testing (40%)\n",
    "train_X, test_X, train_y, test_y = train_test_split(X, y, test_size=0.4, random_state=1)"
   ]
  },
  {
   "cell_type": "markdown",
   "metadata": {},
   "source": [
    "## Predict \"Personal Loans\"\n",
    "1. Fit the discriminant analysis on the training data\n",
    "2. Print the intercept and model coefficients\n",
    "3. Get the class predictions and probabilities of the training data"
   ]
  },
  {
   "cell_type": "code",
   "execution_count": 13,
   "metadata": {},
   "outputs": [
    {
     "name": "stdout",
     "output_type": "stream",
     "text": [
      "Linear discriminant analysis intercept:  -9.6155496539902\n",
      "Linear discriminant analysis variables and their coefficients:\n"
     ]
    }
   ],
   "source": [
    "da_reg = LinearDiscriminantAnalysis()\n",
    "da_reg.fit(train_X, train_y)\n",
    "\n",
    "# Get the intercept and coefficients of the linear discriminant analysis\n",
    "da_intercept = da_reg.intercept_[0]\n",
    "da_coeff = da_reg.coef_[0]\n",
    "\n",
    "# Print intercept and model coefficients\n",
    "print('Linear discriminant analysis intercept: ', da_intercept)\n",
    "print(\"Linear discriminant analysis variables and their coefficients:\")\n",
    "pd.DataFrame({'coeff': da_coeff}, index=train_X.columns) #DataFrame of variables and coeff\n",
    "\n",
    "# Get the class predictions of the model, along with its probabilities \n",
    "da_train_pred_class = da_reg.predict(train_X)\n",
    "da_train_pred_prob = da_reg.predict_proba(train_X)"
   ]
  },
  {
   "cell_type": "markdown",
   "metadata": {},
   "source": [
    "## Use linear discriminant analysis on unseen data\n",
    "1. Use linear discriminant analysis to \"score\" the testing data\n",
    "2. Obtain probabilities for the testing data"
   ]
  },
  {
   "cell_type": "code",
   "execution_count": 15,
   "metadata": {},
   "outputs": [
    {
     "data": {
      "text/html": [
       "<div>\n",
       "<style scoped>\n",
       "    .dataframe tbody tr th:only-of-type {\n",
       "        vertical-align: middle;\n",
       "    }\n",
       "\n",
       "    .dataframe tbody tr th {\n",
       "        vertical-align: top;\n",
       "    }\n",
       "\n",
       "    .dataframe thead th {\n",
       "        text-align: right;\n",
       "    }\n",
       "</style>\n",
       "<table border=\"1\" class=\"dataframe\">\n",
       "  <thead>\n",
       "    <tr style=\"text-align: right;\">\n",
       "      <th></th>\n",
       "      <th>Actual_Class</th>\n",
       "      <th>Predicted_Class</th>\n",
       "      <th>P(Y=0)</th>\n",
       "      <th>P(Y=1)</th>\n",
       "    </tr>\n",
       "  </thead>\n",
       "  <tbody>\n",
       "    <tr>\n",
       "      <th>2764</th>\n",
       "      <td>0</td>\n",
       "      <td>0</td>\n",
       "      <td>0.990321</td>\n",
       "      <td>0.009679</td>\n",
       "    </tr>\n",
       "    <tr>\n",
       "      <th>4767</th>\n",
       "      <td>0</td>\n",
       "      <td>0</td>\n",
       "      <td>0.999951</td>\n",
       "      <td>0.000049</td>\n",
       "    </tr>\n",
       "    <tr>\n",
       "      <th>3814</th>\n",
       "      <td>0</td>\n",
       "      <td>0</td>\n",
       "      <td>0.999875</td>\n",
       "      <td>0.000125</td>\n",
       "    </tr>\n",
       "    <tr>\n",
       "      <th>3499</th>\n",
       "      <td>0</td>\n",
       "      <td>0</td>\n",
       "      <td>0.998093</td>\n",
       "      <td>0.001907</td>\n",
       "    </tr>\n",
       "    <tr>\n",
       "      <th>2735</th>\n",
       "      <td>0</td>\n",
       "      <td>0</td>\n",
       "      <td>0.979256</td>\n",
       "      <td>0.020744</td>\n",
       "    </tr>\n",
       "    <tr>\n",
       "      <th>3922</th>\n",
       "      <td>0</td>\n",
       "      <td>0</td>\n",
       "      <td>0.999213</td>\n",
       "      <td>0.000787</td>\n",
       "    </tr>\n",
       "    <tr>\n",
       "      <th>2701</th>\n",
       "      <td>0</td>\n",
       "      <td>0</td>\n",
       "      <td>0.998266</td>\n",
       "      <td>0.001734</td>\n",
       "    </tr>\n",
       "    <tr>\n",
       "      <th>1179</th>\n",
       "      <td>0</td>\n",
       "      <td>0</td>\n",
       "      <td>0.991035</td>\n",
       "      <td>0.008965</td>\n",
       "    </tr>\n",
       "    <tr>\n",
       "      <th>932</th>\n",
       "      <td>0</td>\n",
       "      <td>1</td>\n",
       "      <td>0.091928</td>\n",
       "      <td>0.908072</td>\n",
       "    </tr>\n",
       "    <tr>\n",
       "      <th>792</th>\n",
       "      <td>0</td>\n",
       "      <td>0</td>\n",
       "      <td>0.969082</td>\n",
       "      <td>0.030918</td>\n",
       "    </tr>\n",
       "  </tbody>\n",
       "</table>\n",
       "</div>"
      ],
      "text/plain": [
       "      Actual_Class  Predicted_Class    P(Y=0)    P(Y=1)\n",
       "2764             0                0  0.990321  0.009679\n",
       "4767             0                0  0.999951  0.000049\n",
       "3814             0                0  0.999875  0.000125\n",
       "3499             0                0  0.998093  0.001907\n",
       "2735             0                0  0.979256  0.020744\n",
       "3922             0                0  0.999213  0.000787\n",
       "2701             0                0  0.998266  0.001734\n",
       "1179             0                0  0.991035  0.008965\n",
       "932              0                1  0.091928  0.908072\n",
       "792              0                0  0.969082  0.030918"
      ]
     },
     "execution_count": 15,
     "metadata": {},
     "output_type": "execute_result"
    }
   ],
   "source": [
    "da_test_pred_class = da_reg.predict(test_X)\n",
    "da_test_pred_prob = da_reg.predict_proba(test_X)\n",
    "pred_summary = pd.DataFrame({\"Actual_Class\": test_y, \"Predicted_Class\": da_test_pred_class,\\\n",
    "                             \"P(Y=0)\":da_test_pred_prob[:,0], \"P(Y=1)\":da_test_pred_prob[:,1]})\n",
    "pred_summary.head(10)"
   ]
  },
  {
   "cell_type": "markdown",
   "metadata": {},
   "source": [
    "## Compare linear discriminant analysis with logistic regression"
   ]
  },
  {
   "cell_type": "code",
   "execution_count": 46,
   "metadata": {},
   "outputs": [
    {
     "name": "stdout",
     "output_type": "stream",
     "text": [
      "Logistic regression intercept:  -12.579270617485948\n",
      "Logistic regression variables and their coefficients:\n"
     ]
    },
    {
     "data": {
      "text/html": [
       "<div>\n",
       "<style scoped>\n",
       "    .dataframe tbody tr th:only-of-type {\n",
       "        vertical-align: middle;\n",
       "    }\n",
       "\n",
       "    .dataframe tbody tr th {\n",
       "        vertical-align: top;\n",
       "    }\n",
       "\n",
       "    .dataframe thead th {\n",
       "        text-align: right;\n",
       "    }\n",
       "</style>\n",
       "<table border=\"1\" class=\"dataframe\">\n",
       "  <thead>\n",
       "    <tr style=\"text-align: right;\">\n",
       "      <th></th>\n",
       "      <th>Logistic Coeff</th>\n",
       "      <th>LDA Coeff</th>\n",
       "    </tr>\n",
       "  </thead>\n",
       "  <tbody>\n",
       "    <tr>\n",
       "      <th>Age</th>\n",
       "      <td>-0.034698</td>\n",
       "      <td>-0.138519</td>\n",
       "    </tr>\n",
       "    <tr>\n",
       "      <th>Experience</th>\n",
       "      <td>0.036263</td>\n",
       "      <td>0.141669</td>\n",
       "    </tr>\n",
       "    <tr>\n",
       "      <th>Income</th>\n",
       "      <td>0.058892</td>\n",
       "      <td>0.055291</td>\n",
       "    </tr>\n",
       "    <tr>\n",
       "      <th>Family</th>\n",
       "      <td>0.612844</td>\n",
       "      <td>0.554821</td>\n",
       "    </tr>\n",
       "    <tr>\n",
       "      <th>CCAvg</th>\n",
       "      <td>0.240581</td>\n",
       "      <td>0.357975</td>\n",
       "    </tr>\n",
       "    <tr>\n",
       "      <th>Mortgage</th>\n",
       "      <td>0.001013</td>\n",
       "      <td>0.001504</td>\n",
       "    </tr>\n",
       "    <tr>\n",
       "      <th>Securities_Account</th>\n",
       "      <td>-1.018802</td>\n",
       "      <td>-1.351934</td>\n",
       "    </tr>\n",
       "    <tr>\n",
       "      <th>CD_Account</th>\n",
       "      <td>3.654623</td>\n",
       "      <td>6.445916</td>\n",
       "    </tr>\n",
       "    <tr>\n",
       "      <th>Online</th>\n",
       "      <td>-0.677479</td>\n",
       "      <td>-0.511460</td>\n",
       "    </tr>\n",
       "    <tr>\n",
       "      <th>CreditCard</th>\n",
       "      <td>-0.958283</td>\n",
       "      <td>-0.783979</td>\n",
       "    </tr>\n",
       "    <tr>\n",
       "      <th>Education_Graduate</th>\n",
       "      <td>4.204665</td>\n",
       "      <td>2.845353</td>\n",
       "    </tr>\n",
       "    <tr>\n",
       "      <th>Education_Advanced/Professional</th>\n",
       "      <td>4.356211</td>\n",
       "      <td>2.961886</td>\n",
       "    </tr>\n",
       "  </tbody>\n",
       "</table>\n",
       "</div>"
      ],
      "text/plain": [
       "                                 Logistic Coeff  LDA Coeff\n",
       "Age                                   -0.034698  -0.138519\n",
       "Experience                             0.036263   0.141669\n",
       "Income                                 0.058892   0.055291\n",
       "Family                                 0.612844   0.554821\n",
       "CCAvg                                  0.240581   0.357975\n",
       "Mortgage                               0.001013   0.001504\n",
       "Securities_Account                    -1.018802  -1.351934\n",
       "CD_Account                             3.654623   6.445916\n",
       "Online                                -0.677479  -0.511460\n",
       "CreditCard                            -0.958283  -0.783979\n",
       "Education_Graduate                     4.204665   2.845353\n",
       "Education_Advanced/Professional        4.356211   2.961886"
      ]
     },
     "execution_count": 46,
     "metadata": {},
     "output_type": "execute_result"
    }
   ],
   "source": [
    "from sklearn.linear_model import LogisticRegression\n",
    "\n",
    "# fit a logistic regression\n",
    "log_reg = LogisticRegression(fit_intercept=True, C=1e42, solver='liblinear')\n",
    "log_reg.fit(train_X, train_y)\n",
    "\n",
    "# Get the intercept and coefficients of the logistic regression\n",
    "log_reg_intercept = log_reg.intercept_[0]\n",
    "log_reg_coeff = log_reg.coef_[0]\n",
    "\n",
    "# Get the class predictions of the model, along with its probabilities \n",
    "log_train_pred_class = log_reg.predict(train_X)\n",
    "log_train_pred_prob = log_reg.predict_proba(train_X)\n",
    "\n",
    "# Using logistic regression on unseen data\n",
    "log_test_pred_class = log_reg.predict(test_X)\n",
    "log_test_pred_prob = log_reg.predict_proba(test_X)\n",
    "\n",
    "# Print intercept and model coefficients\n",
    "print('Logistic regression intercept: ', log_reg_intercept)\n",
    "print(\"Logistic regression variables and their coefficients:\")\n",
    "pd.DataFrame({'Logistic Coeff': log_reg_coeff, 'LDA Coeff': da_coeff}, index=train_X.columns)"
   ]
  },
  {
   "cell_type": "markdown",
   "metadata": {},
   "source": [
    "## Model Evaluation\n",
    "1. Provide the model's accuracy rate and comment on it\n",
    "2. Provide the model's misclassification rate and comment on it"
   ]
  },
  {
   "cell_type": "code",
   "execution_count": 55,
   "metadata": {},
   "outputs": [
    {
     "name": "stdout",
     "output_type": "stream",
     "text": [
      "Accuracy rate for linear discriminant analysis: 0.944\n",
      "Accuracy rate for logistic regression: 0.96\n",
      "\n",
      "Misclassification rate for linear discriminant analysis: 0.056\n",
      "Misclassification rate for logistic regression: 0.04\n"
     ]
    }
   ],
   "source": [
    "from sklearn.metrics import accuracy_score\n",
    "\n",
    "da_test_accuracy = accuracy_score(test_y, da_test_pred_class)\n",
    "log_test_accuracy = accuracy_score(test_y, log_test_pred_class)\n",
    "\n",
    "# Get misclassification rate\n",
    "da_test_misclass = round(1 - da_test_accuracy, 4)\n",
    "log_test_misclass = round(1 - log_test_accuracy, 4)\n",
    "\n",
    "print(\"Accuracy rate for linear discriminant analysis:\", da_test_accuracy)\n",
    "print(\"Accuracy rate for logistic regression:\", log_test_accuracy)\n",
    "\n",
    "print(\"\\nMisclassification rate for linear discriminant analysis:\", da_test_misclass)\n",
    "print(\"Misclassification rate for logistic regression:\", log_test_misclass)"
   ]
  },
  {
   "cell_type": "markdown",
   "metadata": {},
   "source": [
    "## Model Evaluation\n",
    "1. Provide the ROC curve and comment on it"
   ]
  },
  {
   "cell_type": "code",
   "execution_count": 60,
   "metadata": {},
   "outputs": [
    {
     "data": {
      "image/png": "[encoded data removed]",
      "text/plain": [
       "<Figure size 432x288 with 1 Axes>"
      ]
     },
     "metadata": {
      "needs_background": "light"
     },
     "output_type": "display_data"
    }
   ],
   "source": [
    "from sklearn.metrics import roc_curve\n",
    "from sklearn.metrics import roc_auc_score\n",
    "\n",
    "# Calculate AUC for train and test data\n",
    "da_auc_test = roc_auc_score(test_y, da_test_pred_class)\n",
    "log_auc_test = roc_auc_score(test_y, log_test_pred_class)\n",
    "\n",
    "# calculate fpr and tpr for logistic regression and linear discriminant analysis\n",
    "da_fpr_test, da_tpr_test, _ = roc_curve(test_y, da_test_pred_class)\n",
    "log_fpr_test, log_tpr_test, _ = roc_curve(test_y, log_test_pred_class)\n",
    "\n",
    "# Plotting\n",
    "plt.plot(da_fpr_test, da_tpr_test, linestyle='--', label=\"{}{:.3f}\".format(\"LDA AUC=\", da_auc_test))\n",
    "plt.plot(log_fpr_test, log_tpr_test, linestyle='--', label=\"{}{:.3f}\".format(\"Log. Reg AUC=\", log_auc_test))\n",
    "plt.plot([0, 1], [0, 1], linestyle='solid', c='k')\n",
    "\n",
    "plt.title(\"LDA AUC vs. Logistic Regression AUC\")\n",
    "plt.xlabel(\"False Positive Rate\")\n",
    "plt.ylabel(\"True Positive Rate\")\n",
    "plt.legend(loc='lower right')\n",
    "plt.show()"
   ]
  },
  {
   "cell_type": "code",
   "execution_count": null,
   "metadata": {},
   "outputs": [],
   "source": []
  }
 ],
 "metadata": {
  "kernelspec": {
   "display_name": "Python 3",
   "language": "python",
   "name": "python3"
  },
  "language_info": {
   "codemirror_mode": {
    "name": "ipython",
    "version": 3
   },
   "file_extension": ".py",
   "mimetype": "text/x-python",
   "name": "python",
   "nbconvert_exporter": "python",
   "pygments_lexer": "ipython3",
   "version": "3.7.4"
  }
 },
 "nbformat": 4,
 "nbformat_minor": 2
}
